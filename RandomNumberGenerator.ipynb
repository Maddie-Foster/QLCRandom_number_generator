{
  "nbformat": 4,
  "nbformat_minor": 0,
  "metadata": {
    "colab": {
      "provenance": [],
      "authorship_tag": "ABX9TyPM2L/n4eg6hdNW4WWTb2Ty",
      "include_colab_link": true
    },
    "kernelspec": {
      "name": "python3",
      "display_name": "Python 3"
    },
    "language_info": {
      "name": "python"
    }
  },
  "cells": [
    {
      "cell_type": "markdown",
      "metadata": {
        "id": "view-in-github",
        "colab_type": "text"
      },
      "source": [
        "<a href=\"https://colab.research.google.com/github/Maddie-Foster/QLCRandom_number_generator/blob/main/RandomNumberGenerator.ipynb\" target=\"_parent\"><img src=\"https://colab.research.google.com/assets/colab-badge.svg\" alt=\"Open In Colab\"/></a>"
      ]
    },
    {
      "cell_type": "code",
      "execution_count": null,
      "metadata": {
        "id": "CDtyYKhCyQqJ"
      },
      "outputs": [],
      "source": [
        "import random"
      ]
    },
    {
      "cell_type": "code",
      "source": [
        "#Make a random list of numbers (20 total) which are randomly chosen between o and 100000\n",
        "random_list = random.sample(range(0, 100000), 20)\n",
        "#Change\"yournumber\"to a number between 0 and 19\n",
        "x=9\n",
        "#x=9\n",
        "print(random_list[x])"
      ],
      "metadata": {
        "colab": {
          "base_uri": "https://localhost:8080/"
        },
        "id": "C1D329cPyhbe",
        "outputId": "43d65e06-ce1a-4f98-c01b-dab3afcf5f83"
      },
      "execution_count": null,
      "outputs": [
        {
          "output_type": "stream",
          "name": "stdout",
          "text": [
            "58931\n"
          ]
        }
      ]
    },
    {
      "cell_type": "code",
      "source": [
        "# prompt: Create a list with the following names:Ty,Nolan,Filip,Maddie,Anabelle,Zoe,Karoline. In a random order each time it is run. Add an input option to increase randomness from a human input.\n",
        "\n",
        "import random\n",
        "\n",
        "names = [\"Ty\", \"Nolan\", \"Filip\", \"Maddie\", \"Anabelle\", \"Zoe\", \"Karoline\"]\n",
        "\n",
        "try:\n",
        "  randomness_input = int(input(\"Enter a number to increase randomness (optional): \"))\n",
        "  random.seed(randomness_input)\n",
        "except ValueError:\n",
        "  print(\"Invalid input. Using default randomness.\")\n",
        "  pass\n",
        "\n",
        "random.shuffle(names)\n",
        "\n",
        "names\n"
      ],
      "metadata": {
        "colab": {
          "base_uri": "https://localhost:8080/"
        },
        "id": "UQ12rHv1zM5I",
        "outputId": "162ed0b0-b765-48e8-d182-a3d59dfb90e2"
      },
      "execution_count": null,
      "outputs": [
        {
          "name": "stdout",
          "output_type": "stream",
          "text": [
            "Enter a number to increase randomness (optional): 11\n"
          ]
        },
        {
          "output_type": "execute_result",
          "data": {
            "text/plain": [
              "['Nolan', 'Ty', 'Filip', 'Zoe', 'Karoline', 'Anabelle', 'Maddie']"
            ]
          },
          "metadata": {},
          "execution_count": 5
        }
      ]
    },
    {
      "cell_type": "code",
      "source": [],
      "metadata": {
        "id": "Ful04ueCzZTi"
      },
      "execution_count": null,
      "outputs": []
    }
  ]
}